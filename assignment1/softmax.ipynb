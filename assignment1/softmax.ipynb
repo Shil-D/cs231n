{
 "cells": [
  {
   "cell_type": "markdown",
   "metadata": {},
   "source": [
    "# Softmax exercise\n",
    "\n",
    "*Complete and hand in this completed worksheet (including its outputs and any supporting code outside of the worksheet) with your assignment submission. For more details see the [assignments page](http://vision.stanford.edu/teaching/cs231n/assignments.html) on the course website.*\n",
    "\n",
    "This exercise is analogous to the SVM exercise. You will:\n",
    "\n",
    "- implement a fully-vectorized **loss function** for the Softmax classifier\n",
    "- implement the fully-vectorized expression for its **analytic gradient**\n",
    "- **check your implementation** with numerical gradient\n",
    "- use a validation set to **tune the learning rate and regularization** strength\n",
    "- **optimize** the loss function with **SGD**\n",
    "- **visualize** the final learned weights\n"
   ]
  },
  {
   "cell_type": "code",
   "execution_count": 1,
   "metadata": {},
   "outputs": [],
   "source": [
    "import random\n",
    "import numpy as np\n",
    "from cs231n.data_utils import load_CIFAR10\n",
    "import matplotlib.pyplot as plt\n",
    "\n",
    "from __future__ import print_function\n",
    "\n",
    "%matplotlib inline\n",
    "plt.rcParams['figure.figsize'] = (10.0, 8.0) # set default size of plots\n",
    "plt.rcParams['image.interpolation'] = 'nearest'\n",
    "plt.rcParams['image.cmap'] = 'gray'\n",
    "\n",
    "# for auto-reloading extenrnal modules\n",
    "# see http://stackoverflow.com/questions/1907993/autoreload-of-modules-in-ipython\n",
    "%load_ext autoreload\n",
    "%autoreload 2"
   ]
  },
  {
   "cell_type": "code",
   "execution_count": 2,
   "metadata": {},
   "outputs": [
    {
     "name": "stdout",
     "output_type": "stream",
     "text": [
      "Train data shape:  (49000, 3073)\n",
      "Train labels shape:  (49000,)\n",
      "Validation data shape:  (1000, 3073)\n",
      "Validation labels shape:  (1000,)\n",
      "Test data shape:  (1000, 3073)\n",
      "Test labels shape:  (1000,)\n",
      "dev data shape:  (500, 3073)\n",
      "dev labels shape:  (500,)\n"
     ]
    }
   ],
   "source": [
    "def get_CIFAR10_data(num_training=49000, num_validation=1000, num_test=1000, num_dev=500):\n",
    "    \"\"\"\n",
    "    Load the CIFAR-10 dataset from disk and perform preprocessing to prepare\n",
    "    it for the linear classifier. These are the same steps as we used for the\n",
    "    SVM, but condensed to a single function.  \n",
    "    \"\"\"\n",
    "    # Load the raw CIFAR-10 data\n",
    "    cifar10_dir = 'cs231n/datasets/cifar-10-batches-py'\n",
    "    \n",
    "    X_train, y_train, X_test, y_test = load_CIFAR10(cifar10_dir)\n",
    "    \n",
    "    # subsample the data\n",
    "    mask = list(range(num_training, num_training + num_validation))\n",
    "    X_val = X_train[mask]\n",
    "    y_val = y_train[mask]\n",
    "    mask = list(range(num_training))\n",
    "    X_train = X_train[mask]\n",
    "    y_train = y_train[mask]\n",
    "    mask = list(range(num_test))\n",
    "    X_test = X_test[mask]\n",
    "    y_test = y_test[mask]\n",
    "    mask = np.random.choice(num_training, num_dev, replace=False)\n",
    "    X_dev = X_train[mask]\n",
    "    y_dev = y_train[mask]\n",
    "    \n",
    "    # Preprocessing: reshape the image data into rows\n",
    "    X_train = np.reshape(X_train, (X_train.shape[0], -1))\n",
    "    X_val = np.reshape(X_val, (X_val.shape[0], -1))\n",
    "    X_test = np.reshape(X_test, (X_test.shape[0], -1))\n",
    "    X_dev = np.reshape(X_dev, (X_dev.shape[0], -1))\n",
    "    \n",
    "    # Normalize the data: subtract the mean image\n",
    "    mean_image = np.mean(X_train, axis = 0)\n",
    "    X_train -= mean_image\n",
    "    X_val -= mean_image\n",
    "    X_test -= mean_image\n",
    "    X_dev -= mean_image\n",
    "    \n",
    "    # add bias dimension and transform into columns\n",
    "    X_train = np.hstack([X_train, np.ones((X_train.shape[0], 1))])\n",
    "    X_val = np.hstack([X_val, np.ones((X_val.shape[0], 1))])\n",
    "    X_test = np.hstack([X_test, np.ones((X_test.shape[0], 1))])\n",
    "    X_dev = np.hstack([X_dev, np.ones((X_dev.shape[0], 1))])\n",
    "    \n",
    "    return X_train, y_train, X_val, y_val, X_test, y_test, X_dev, y_dev\n",
    "\n",
    "\n",
    "# Cleaning up variables to prevent loading data multiple times (which may cause memory issue)\n",
    "try:\n",
    "   del X_train, y_train\n",
    "   del X_test, y_test\n",
    "   print('Clear previously loaded data.')\n",
    "except:\n",
    "   pass\n",
    "\n",
    "# Invoke the above function to get our data.\n",
    "X_train, y_train, X_val, y_val, X_test, y_test, X_dev, y_dev = get_CIFAR10_data()\n",
    "print('Train data shape: ', X_train.shape)\n",
    "print('Train labels shape: ', y_train.shape)\n",
    "print('Validation data shape: ', X_val.shape)\n",
    "print('Validation labels shape: ', y_val.shape)\n",
    "print('Test data shape: ', X_test.shape)\n",
    "print('Test labels shape: ', y_test.shape)\n",
    "print('dev data shape: ', X_dev.shape)\n",
    "print('dev labels shape: ', y_dev.shape)"
   ]
  },
  {
   "cell_type": "markdown",
   "metadata": {},
   "source": [
    "## Softmax Classifier\n",
    "\n",
    "Your code for this section will all be written inside **cs231n/classifiers/softmax.py**. \n"
   ]
  },
  {
   "cell_type": "code",
   "execution_count": 3,
   "metadata": {},
   "outputs": [
    {
     "name": "stdout",
     "output_type": "stream",
     "text": [
      "loss: 2.413437\n",
      "sanity check: 2.302585\n"
     ]
    }
   ],
   "source": [
    "# First implement the naive softmax loss function with nested loops.\n",
    "# Open the file cs231n/classifiers/softmax.py and implement the\n",
    "# softmax_loss_naive function.\n",
    "\n",
    "from cs231n.classifiers.softmax import softmax_loss_naive\n",
    "import time\n",
    "\n",
    "# Generate a random softmax weight matrix and use it to compute the loss.\n",
    "W = np.random.randn(3073, 10) * 0.0001\n",
    "loss, grad = softmax_loss_naive(W, X_dev, y_dev, 0.0)\n",
    "\n",
    "# As a rough sanity check, our loss should be something close to -log(0.1).\n",
    "print('loss: %f' % loss)\n",
    "print('sanity check: %f' % (-np.log(0.1)))"
   ]
  },
  {
   "cell_type": "markdown",
   "metadata": {},
   "source": [
    "## Inline Question 1:\n",
    "Why do we expect our loss to be close to -log(0.1)? Explain briefly.**\n",
    "\n",
    "**Your answer:** \n",
    "If the weights is all equals we expect that scores and probabilities of classes will be also equals. That's why probability of a correct class will be (1 / number_of_classes). \n"
   ]
  },
  {
   "cell_type": "code",
   "execution_count": 4,
   "metadata": {},
   "outputs": [
    {
     "name": "stdout",
     "output_type": "stream",
     "text": [
      "numerical: 1.368996 analytic: 1.368996, relative error: 3.929656e-09\n",
      "numerical: 2.573764 analytic: 2.573764, relative error: 1.514442e-08\n",
      "numerical: 1.805923 analytic: 1.805923, relative error: 1.038945e-08\n",
      "numerical: -0.266064 analytic: -0.266064, relative error: 3.829786e-08\n",
      "numerical: 1.491025 analytic: 1.491025, relative error: 5.024889e-08\n",
      "numerical: -1.640025 analytic: -1.640025, relative error: 2.523635e-08\n",
      "numerical: -4.080585 analytic: -4.080585, relative error: 3.381261e-09\n",
      "numerical: 2.888956 analytic: 2.888956, relative error: 1.872406e-08\n",
      "numerical: 1.973461 analytic: 1.973461, relative error: 5.350474e-08\n",
      "numerical: 1.559312 analytic: 1.559312, relative error: 2.767499e-08\n",
      "numerical: 3.231008 analytic: 3.231008, relative error: 7.395787e-09\n",
      "numerical: -2.028207 analytic: -2.028207, relative error: 2.344048e-09\n",
      "numerical: 0.660094 analytic: 0.660094, relative error: 8.981587e-08\n",
      "numerical: 0.921934 analytic: 0.921934, relative error: 5.221166e-08\n",
      "numerical: -0.900775 analytic: -0.900775, relative error: 1.331306e-08\n",
      "numerical: 1.706810 analytic: 1.706811, relative error: 2.193489e-08\n",
      "numerical: 2.143295 analytic: 2.143295, relative error: 2.178583e-08\n",
      "numerical: -1.546207 analytic: -1.546207, relative error: 8.719022e-09\n",
      "numerical: 0.473601 analytic: 0.473601, relative error: 5.089917e-08\n",
      "numerical: 0.286732 analytic: 0.286732, relative error: 4.866354e-08\n"
     ]
    }
   ],
   "source": [
    "# Complete the implementation of softmax_loss_naive and implement a (naive)\n",
    "# version of the gradient that uses nested loops.\n",
    "loss, grad = softmax_loss_naive(W, X_dev, y_dev, 0.0)\n",
    "\n",
    "# As we did for the SVM, use numeric gradient checking as a debugging tool.\n",
    "# The numeric gradient should be close to the analytic gradient.\n",
    "from cs231n.gradient_check import grad_check_sparse\n",
    "f = lambda w: softmax_loss_naive(w, X_dev, y_dev, 0.0)[0]\n",
    "grad_numerical = grad_check_sparse(f, W, grad, 10)\n",
    "\n",
    "# similar to SVM case, do another gradient check with regularization\n",
    "loss, grad = softmax_loss_naive(W, X_dev, y_dev, 5e1)\n",
    "f = lambda w: softmax_loss_naive(w, X_dev, y_dev, 5e1)[0]\n",
    "grad_numerical = grad_check_sparse(f, W, grad, 10)"
   ]
  },
  {
   "cell_type": "code",
   "execution_count": 5,
   "metadata": {},
   "outputs": [
    {
     "name": "stdout",
     "output_type": "stream",
     "text": [
      "naive loss: 2.413437e+00 computed in 0.153500s\n",
      "vectorized loss: 2.413437e+00 computed in 0.021000s\n",
      "Loss difference: 0.000000\n",
      "Gradient difference: 0.000000\n"
     ]
    }
   ],
   "source": [
    "# Now that we have a naive implementation of the softmax loss function and its gradient,\n",
    "# implement a vectorized version in softmax_loss_vectorized.\n",
    "# The two versions should compute the same results, but the vectorized version should be\n",
    "# much faster.\n",
    "tic = time.time()\n",
    "loss_naive, grad_naive = softmax_loss_naive(W, X_dev, y_dev, 0.000005)\n",
    "toc = time.time()\n",
    "print('naive loss: %e computed in %fs' % (loss_naive, toc - tic))\n",
    "\n",
    "from cs231n.classifiers.softmax import softmax_loss_vectorized\n",
    "tic = time.time()\n",
    "loss_vectorized, grad_vectorized = softmax_loss_vectorized(W, X_dev, y_dev, 0.000005)\n",
    "toc = time.time()\n",
    "print('vectorized loss: %e computed in %fs' % (loss_vectorized, toc - tic))\n",
    "\n",
    "# As we did for the SVM, we use the Frobenius norm to compare the two versions\n",
    "# of the gradient.\n",
    "grad_difference = np.linalg.norm(grad_naive - grad_vectorized, ord='fro')\n",
    "print('Loss difference: %f' % np.abs(loss_naive - loss_vectorized))\n",
    "print('Gradient difference: %f' % grad_difference)"
   ]
  },
  {
   "cell_type": "code",
   "execution_count": 6,
   "metadata": {},
   "outputs": [
    {
     "name": "stdout",
     "output_type": "stream",
     "text": [
      "LR = 1e-08, RS = 10.0\n",
      "LR = 1e-08, RS = 31.622776601683793\n",
      "LR = 1e-08, RS = 100.0\n",
      "LR = 1e-08, RS = 316.22776601683796\n",
      "LR = 1e-08, RS = 1000.0\n",
      "LR = 1e-08, RS = 3162.2776601683795\n",
      "LR = 1e-08, RS = 10000.0\n",
      "LR = 1e-08, RS = 31622.776601683792\n",
      "LR = 3.162277660168379e-08, RS = 10.0\n",
      "LR = 3.162277660168379e-08, RS = 31.622776601683793\n",
      "LR = 3.162277660168379e-08, RS = 100.0\n",
      "LR = 3.162277660168379e-08, RS = 316.22776601683796\n",
      "LR = 3.162277660168379e-08, RS = 1000.0\n",
      "LR = 3.162277660168379e-08, RS = 3162.2776601683795\n",
      "LR = 3.162277660168379e-08, RS = 10000.0\n",
      "LR = 3.162277660168379e-08, RS = 31622.776601683792\n",
      "LR = 1e-07, RS = 10.0\n",
      "LR = 1e-07, RS = 31.622776601683793\n",
      "LR = 1e-07, RS = 100.0\n",
      "LR = 1e-07, RS = 316.22776601683796\n",
      "LR = 1e-07, RS = 1000.0\n",
      "LR = 1e-07, RS = 3162.2776601683795\n",
      "LR = 1e-07, RS = 10000.0\n",
      "LR = 1e-07, RS = 31622.776601683792\n",
      "LR = 3.162277660168379e-07, RS = 10.0\n",
      "LR = 3.162277660168379e-07, RS = 31.622776601683793\n",
      "LR = 3.162277660168379e-07, RS = 100.0\n",
      "LR = 3.162277660168379e-07, RS = 316.22776601683796\n",
      "LR = 3.162277660168379e-07, RS = 1000.0\n",
      "LR = 3.162277660168379e-07, RS = 3162.2776601683795\n",
      "LR = 3.162277660168379e-07, RS = 10000.0\n",
      "LR = 3.162277660168379e-07, RS = 31622.776601683792\n",
      "LR = 1e-06, RS = 10.0\n",
      "LR = 1e-06, RS = 31.622776601683793\n",
      "LR = 1e-06, RS = 100.0\n",
      "LR = 1e-06, RS = 316.22776601683796\n",
      "LR = 1e-06, RS = 1000.0\n",
      "LR = 1e-06, RS = 3162.2776601683795\n",
      "LR = 1e-06, RS = 10000.0\n",
      "LR = 1e-06, RS = 31622.776601683792\n",
      "LR = 3.162277660168379e-06, RS = 10.0\n",
      "LR = 3.162277660168379e-06, RS = 31.622776601683793\n",
      "LR = 3.162277660168379e-06, RS = 100.0\n",
      "LR = 3.162277660168379e-06, RS = 316.22776601683796\n",
      "LR = 3.162277660168379e-06, RS = 1000.0\n",
      "LR = 3.162277660168379e-06, RS = 3162.2776601683795\n",
      "LR = 3.162277660168379e-06, RS = 10000.0\n",
      "LR = 3.162277660168379e-06, RS = 31622.776601683792\n",
      "lr 1.000000e-08 reg 1.000000e+01 train accuracy: 0.162469 val accuracy: 0.152000\n",
      "lr 1.000000e-08 reg 3.162278e+01 train accuracy: 0.156224 val accuracy: 0.156000\n",
      "lr 1.000000e-08 reg 1.000000e+02 train accuracy: 0.164633 val accuracy: 0.155000\n",
      "lr 1.000000e-08 reg 3.162278e+02 train accuracy: 0.163122 val accuracy: 0.151000\n",
      "lr 1.000000e-08 reg 1.000000e+03 train accuracy: 0.147857 val accuracy: 0.150000\n",
      "lr 1.000000e-08 reg 3.162278e+03 train accuracy: 0.164673 val accuracy: 0.162000\n",
      "lr 1.000000e-08 reg 1.000000e+04 train accuracy: 0.136980 val accuracy: 0.136000\n",
      "lr 1.000000e-08 reg 3.162278e+04 train accuracy: 0.180857 val accuracy: 0.174000\n",
      "lr 3.162278e-08 reg 1.000000e+01 train accuracy: 0.204184 val accuracy: 0.209000\n",
      "lr 3.162278e-08 reg 3.162278e+01 train accuracy: 0.199306 val accuracy: 0.214000\n",
      "lr 3.162278e-08 reg 1.000000e+02 train accuracy: 0.206918 val accuracy: 0.211000\n",
      "lr 3.162278e-08 reg 3.162278e+02 train accuracy: 0.211857 val accuracy: 0.223000\n",
      "lr 3.162278e-08 reg 1.000000e+03 train accuracy: 0.193224 val accuracy: 0.172000\n",
      "lr 3.162278e-08 reg 3.162278e+03 train accuracy: 0.209633 val accuracy: 0.211000\n",
      "lr 3.162278e-08 reg 1.000000e+04 train accuracy: 0.246143 val accuracy: 0.226000\n",
      "lr 3.162278e-08 reg 3.162278e+04 train accuracy: 0.313408 val accuracy: 0.326000\n",
      "lr 1.000000e-07 reg 1.000000e+01 train accuracy: 0.254102 val accuracy: 0.252000\n",
      "lr 1.000000e-07 reg 3.162278e+01 train accuracy: 0.247755 val accuracy: 0.245000\n",
      "lr 1.000000e-07 reg 1.000000e+02 train accuracy: 0.250184 val accuracy: 0.255000\n",
      "lr 1.000000e-07 reg 3.162278e+02 train accuracy: 0.253082 val accuracy: 0.258000\n",
      "lr 1.000000e-07 reg 1.000000e+03 train accuracy: 0.268265 val accuracy: 0.286000\n",
      "lr 1.000000e-07 reg 3.162278e+03 train accuracy: 0.305204 val accuracy: 0.294000\n",
      "lr 1.000000e-07 reg 1.000000e+04 train accuracy: 0.354959 val accuracy: 0.367000\n",
      "lr 1.000000e-07 reg 3.162278e+04 train accuracy: 0.318959 val accuracy: 0.341000\n",
      "lr 3.162278e-07 reg 1.000000e+01 train accuracy: 0.296531 val accuracy: 0.304000\n",
      "lr 3.162278e-07 reg 3.162278e+01 train accuracy: 0.294878 val accuracy: 0.307000\n",
      "lr 3.162278e-07 reg 1.000000e+02 train accuracy: 0.303469 val accuracy: 0.306000\n",
      "lr 3.162278e-07 reg 3.162278e+02 train accuracy: 0.320163 val accuracy: 0.305000\n",
      "lr 3.162278e-07 reg 1.000000e+03 train accuracy: 0.354776 val accuracy: 0.352000\n",
      "lr 3.162278e-07 reg 3.162278e+03 train accuracy: 0.381000 val accuracy: 0.388000\n",
      "lr 3.162278e-07 reg 1.000000e+04 train accuracy: 0.356469 val accuracy: 0.372000\n",
      "lr 3.162278e-07 reg 3.162278e+04 train accuracy: 0.319755 val accuracy: 0.329000\n",
      "lr 1.000000e-06 reg 1.000000e+01 train accuracy: 0.348837 val accuracy: 0.359000\n",
      "lr 1.000000e-06 reg 3.162278e+01 train accuracy: 0.351755 val accuracy: 0.342000\n",
      "lr 1.000000e-06 reg 1.000000e+02 train accuracy: 0.367224 val accuracy: 0.361000\n",
      "lr 1.000000e-06 reg 3.162278e+02 train accuracy: 0.392143 val accuracy: 0.373000\n",
      "lr 1.000000e-06 reg 1.000000e+03 train accuracy: 0.397204 val accuracy: 0.409000\n",
      "lr 1.000000e-06 reg 3.162278e+03 train accuracy: 0.374449 val accuracy: 0.385000\n",
      "lr 1.000000e-06 reg 1.000000e+04 train accuracy: 0.347898 val accuracy: 0.345000\n",
      "lr 1.000000e-06 reg 3.162278e+04 train accuracy: 0.311122 val accuracy: 0.334000\n",
      "lr 3.162278e-06 reg 1.000000e+01 train accuracy: 0.383000 val accuracy: 0.351000\n",
      "lr 3.162278e-06 reg 3.162278e+01 train accuracy: 0.386265 val accuracy: 0.367000\n",
      "lr 3.162278e-06 reg 1.000000e+02 train accuracy: 0.410633 val accuracy: 0.397000\n",
      "lr 3.162278e-06 reg 3.162278e+02 train accuracy: 0.391980 val accuracy: 0.396000\n",
      "lr 3.162278e-06 reg 1.000000e+03 train accuracy: 0.384980 val accuracy: 0.392000\n",
      "lr 3.162278e-06 reg 3.162278e+03 train accuracy: 0.367918 val accuracy: 0.361000\n",
      "lr 3.162278e-06 reg 1.000000e+04 train accuracy: 0.341367 val accuracy: 0.358000\n",
      "lr 3.162278e-06 reg 3.162278e+04 train accuracy: 0.257000 val accuracy: 0.259000\n",
      "best validation accuracy achieved during cross-validation: 0.409000\n"
     ]
    }
   ],
   "source": [
    "# Use the validation set to tune hyperparameters (regularization strength and\n",
    "# learning rate). You should experiment with different ranges for the learning\n",
    "# rates and regularization strengths; if you are careful you should be able to\n",
    "# get a classification accuracy of over 0.35 on the validation set.\n",
    "from cs231n.classifiers import Softmax\n",
    "results = {}\n",
    "best_val = -1\n",
    "best_softmax = None\n",
    "learning_rates = [1e-7, 5e-7]\n",
    "regularization_strengths = [2.5e4, 5e4]\n",
    "\n",
    "################################################################################\n",
    "# TODO:                                                                        #\n",
    "# Use the validation set to set the learning rate and regularization strength. #\n",
    "# This should be identical to the validation that you did for the SVM; save    #\n",
    "# the best trained softmax classifer in best_softmax.                          #\n",
    "################################################################################\n",
    "learning_rates = 10. ** np.arange(-8, -5, 0.5)\n",
    "regularization_strengths = 10. ** np.arange(1, 5, 0.5)\n",
    "for lr in learning_rates:\n",
    "    for rs in regularization_strengths:\n",
    "        print(\"LR = {}, RS = {}\".format(lr, rs))\n",
    "        softmax = Softmax()\n",
    "        loss_hist = softmax.train(X_train, y_train, learning_rate=lr, reg=rs,\n",
    "                      num_iters=1500, verbose=False)\n",
    "        \n",
    "        y_train_pred = softmax.predict(X_train)\n",
    "        train_accuracy = np.mean(y_train == y_train_pred)\n",
    "        y_val_pred = softmax.predict(X_val)\n",
    "        val_accuracy = np.mean(y_val == y_val_pred)\n",
    "        results[(lr, rs)] = (train_accuracy, val_accuracy)\n",
    "        if val_accuracy > best_val:\n",
    "            best_val = val_accuracy\n",
    "            best_softmax = softmax\n",
    "################################################################################\n",
    "#                              END OF YOUR CODE                                #\n",
    "################################################################################\n",
    "    \n",
    "# Print out results.\n",
    "for lr, reg in sorted(results):\n",
    "    train_accuracy, val_accuracy = results[(lr, reg)]\n",
    "    print('lr %e reg %e train accuracy: %f val accuracy: %f' % (\n",
    "                lr, reg, train_accuracy, val_accuracy))\n",
    "    \n",
    "print('best validation accuracy achieved during cross-validation: %f' % best_val)"
   ]
  },
  {
   "cell_type": "code",
   "execution_count": 9,
   "metadata": {},
   "outputs": [
    {
     "name": "stdout",
     "output_type": "stream",
     "text": [
      "softmax on raw pixels final test set accuracy: 0.392000\n"
     ]
    }
   ],
   "source": [
    "# evaluate on test set\n",
    "# Evaluate the best softmax on test set\n",
    "y_test_pred = best_softmax.predict(X_test)\n",
    "test_accuracy = np.mean(y_test == y_test_pred)\n",
    "print('softmax on raw pixels final test set accuracy: %f' % (test_accuracy, ))"
   ]
  },
  {
   "cell_type": "markdown",
   "metadata": {},
   "source": [
    "**Inline Question** - *True or False*\n",
    "\n",
    "It's possible to add a new datapoint to a training set that would leave the SVM loss unchanged, but this is not the case with the Softmax classifier loss.\n",
    "\n",
    "*Your answer*:\n",
    "TRUE\n",
    "\n",
    "*Your explanation*:\n",
    "If classifier can already classify new datapoint with required margin, loss won't change. Softmax classifier always wants the correct class probability equals 1, that's why the loss may change."
   ]
  },
  {
   "cell_type": "code",
   "execution_count": 8,
   "metadata": {},
   "outputs": [
    {
     "data": {
      "image/png": "[encoded data removed]",
      "text/plain": [
       "<matplotlib.figure.Figure at 0x8cd3eb8>"
      ]
     },
     "metadata": {},
     "output_type": "display_data"
    }
   ],
   "source": [
    "# Visualize the learned weights for each class\n",
    "w = best_softmax.W[:-1,:] # strip out the bias\n",
    "w = w.reshape(32, 32, 3, 10)\n",
    "\n",
    "w_min, w_max = np.min(w), np.max(w)\n",
    "\n",
    "classes = ['plane', 'car', 'bird', 'cat', 'deer', 'dog', 'frog', 'horse', 'ship', 'truck']\n",
    "for i in range(10):\n",
    "    plt.subplot(2, 5, i + 1)\n",
    "    \n",
    "    # Rescale the weights to be between 0 and 255\n",
    "    wimg = 255.0 * (w[:, :, :, i].squeeze() - w_min) / (w_max - w_min)\n",
    "    plt.imshow(wimg.astype('uint8'))\n",
    "    plt.axis('off')\n",
    "    plt.title(classes[i])"
   ]
  }
 ],
 "metadata": {
  "kernelspec": {
   "display_name": "Python 3",
   "language": "python",
   "name": "python3"
  },
  "language_info": {
   "codemirror_mode": {
    "name": "ipython",
    "version": 3
   },
   "file_extension": ".py",
   "mimetype": "text/x-python",
   "name": "python",
   "nbconvert_exporter": "python",
   "pygments_lexer": "ipython3",
   "version": "3.6.4"
  }
 },
 "nbformat": 4,
 "nbformat_minor": 1
}
